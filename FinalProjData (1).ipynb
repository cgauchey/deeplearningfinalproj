{
  "nbformat": 4,
  "nbformat_minor": 0,
  "metadata": {
    "colab": {
      "provenance": []
    },
    "kernelspec": {
      "name": "python3",
      "display_name": "Python 3"
    },
    "language_info": {
      "name": "python"
    }
  },
  "cells": [
    {
      "cell_type": "code",
      "execution_count": 1,
      "metadata": {
        "colab": {
          "base_uri": "https://localhost:8080/"
        },
        "id": "U75VLbm14joU",
        "outputId": "73f870f0-8e75-4d94-e0f3-15ed1048e51a"
      },
      "outputs": [
        {
          "output_type": "stream",
          "name": "stdout",
          "text": [
            "Mounted at /content/drive\n"
          ]
        }
      ],
      "source": [
        "from google.colab import drive\n",
        "from pathlib import Path\n",
        "import cv2\n",
        "import os\n",
        "\n",
        "drive.mount('/content/drive')\n",
        "video_path = Path().cwd()/\"drive\"/\"MyDrive\"/\"Deep Learning for CV\"/\"finalProjData\"/\"video.mp4\"\n"
      ]
    },
    {
      "cell_type": "code",
      "source": [
        "# open video file\n",
        "video_capture = cv2.VideoCapture(str(video_path))\n",
        "\n",
        "output_folder = Path().cwd()/\"drive\"/\"MyDrive\"/\"Deep Learning for CV\"/\"finalProjData\"/\"extracted_frames_1/\"\n",
        "frame_count = 0\n",
        "success, image = video_capture.read()  # read first frame\n",
        "\n",
        "while success:\n",
        "    timestamp = video_capture.get(cv2.CAP_PROP_POS_MSEC)\n",
        "    frame_filename = os.path.join(output_folder, f\"frame_{frame_count}_{int(timestamp)}.png\")\n",
        "    cv2.imwrite(frame_filename, image)\n",
        "    success, image = video_capture.read()\n",
        "    frame_count += 1\n",
        "\n",
        "video_capture.release()"
      ],
      "metadata": {
        "id": "T_TbFVwC6gpC"
      },
      "execution_count": 2,
      "outputs": []
    },
    {
      "cell_type": "code",
      "source": [
        "# def preprocess_image(image):\n",
        "#     resized_image = cv2.resize(image, (256, 256))\n",
        "#     gray_image = cv2.cvtColor(resized_image, cv2.COLOR_BGR2GRAY)\n",
        "#     return gray_image\n",
        "\n",
        "# crop image\n",
        "def preprocess_image(image):\n",
        "    height, width = image.shape[:2]\n",
        "    new_size = min(height, width)\n",
        "\n",
        "    top = (height - new_size) // 2\n",
        "    left = (width - new_size) // 2\n",
        "    right = left + new_size\n",
        "    bottom = top + new_size\n",
        "\n",
        "    image_cropped = image[top:bottom, left:right]\n",
        "\n",
        "    resized_image = cv2.resize(image_cropped, (512, 512))\n",
        "\n",
        "    gray_image = cv2.cvtColor(resized_image, cv2.COLOR_BGR2GRAY)\n",
        "\n",
        "    return gray_image\n",
        "\n",
        "\n",
        "# process images stored in extracted_frames\n",
        "extracted_folder = str(Path().cwd()/\"drive\"/\"MyDrive\"/\"Deep Learning for CV\"/\"finalProjData\"/\"extracted_frames_1/\")\n",
        "processed_folder = str(Path().cwd()/\"drive\"/\"MyDrive\"/\"Deep Learning for CV\"/\"finalProjData\"/\"preprocessed_frames_1/\")\n",
        "\n",
        "for filename in os.listdir(extracted_folder):\n",
        "    if filename.endswith('.png'):\n",
        "        image_path = os.path.join(extracted_folder, filename)\n",
        "        image = cv2.imread(image_path)\n",
        "        processed_image = preprocess_image(image)\n",
        "        processed_path = os.path.join(processed_folder, filename)\n",
        "        cv2.imwrite(processed_path, processed_image)\n"
      ],
      "metadata": {
        "id": "Q6j6VRma5iVN"
      },
      "execution_count": 3,
      "outputs": []
    },
    {
      "cell_type": "code",
      "source": [],
      "metadata": {
        "id": "9M_iERbc7-8W"
      },
      "execution_count": null,
      "outputs": []
    }
  ]
}