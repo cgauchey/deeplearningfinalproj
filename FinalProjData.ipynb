{
  "nbformat": 4,
  "nbformat_minor": 0,
  "metadata": {
    "colab": {
      "provenance": []
    },
    "kernelspec": {
      "name": "python3",
      "display_name": "Python 3"
    },
    "language_info": {
      "name": "python"
    }
  },
  "cells": [
    {
      "cell_type": "code",
      "execution_count": null,
      "metadata": {
        "colab": {
          "base_uri": "https://localhost:8080/"
        },
        "id": "U75VLbm14joU",
        "outputId": "b0e60e16-5649-4a94-e8d0-6cfb27deb5b9"
      },
      "outputs": [
        {
          "output_type": "stream",
          "name": "stdout",
          "text": [
            "Drive already mounted at /content/drive; to attempt to forcibly remount, call drive.mount(\"/content/drive\", force_remount=True).\n"
          ]
        }
      ],
      "source": [
        "from google.colab import drive\n",
        "from pathlib import Path\n",
        "import cv2\n",
        "import os\n",
        "\n",
        "drive.mount('/content/drive')\n",
        "video_path = Path().cwd()/\"drive\"/\"MyDrive\"/\"Deep Learning for CV\"/\"finalProjData\"/\"video.mp4\"\n"
      ]
    },
    {
      "cell_type": "code",
      "source": [
        "# open video file\n",
        "video_capture = cv2.VideoCapture(str(video_path))\n",
        "\n",
        "output_folder = Path().cwd()/\"drive\"/\"MyDrive\"/\"Deep Learning for CV\"/\"finalProjData\"/\"extracted_frames/\"\n",
        "frame_count = 0\n",
        "success, image = video_capture.read()  # read first frame\n",
        "\n",
        "while success:\n",
        "    timestamp = video_capture.get(cv2.CAP_PROP_POS_MSEC)\n",
        "    frame_filename = os.path.join(output_folder, f\"frame_{frame_count}_{int(timestamp)}.png\")\n",
        "    cv2.imwrite(frame_filename, image)\n",
        "    success, image = video_capture.read()\n",
        "    frame_count += 1\n",
        "\n",
        "video_capture.release()"
      ],
      "metadata": {
        "id": "T_TbFVwC6gpC"
      },
      "execution_count": null,
      "outputs": []
    },
    {
      "cell_type": "code",
      "source": [
        "def preprocess_image(image):\n",
        "    resized_image = cv2.resize(image, (256, 256))\n",
        "    gray_image = cv2.cvtColor(resized_image, cv2.COLOR_BGR2GRAY)\n",
        "    return gray_image\n",
        "\n",
        "# process images stored in extracted_frames\n",
        "extracted_folder = str(Path().cwd()/\"drive\"/\"MyDrive\"/\"Deep Learning for CV\"/\"finalProjData\"/\"extracted_frames/\")\n",
        "processed_folder = str(Path().cwd()/\"drive\"/\"MyDrive\"/\"Deep Learning for CV\"/\"finalProjData\"/\"preprocessed_frames/\")\n",
        "\n",
        "for filename in os.listdir(extracted_folder):\n",
        "    if filename.endswith('.png'):\n",
        "        image_path = os.path.join(extracted_folder, filename)\n",
        "        image = cv2.imread(image_path)\n",
        "        processed_image = preprocess_image(image)\n",
        "        processed_path = os.path.join(processed_folder, filename)\n",
        "        cv2.imwrite(processed_path, processed_image)\n"
      ],
      "metadata": {
        "id": "Q6j6VRma5iVN"
      },
      "execution_count": null,
      "outputs": []
    },
    {
      "cell_type": "code",
      "source": [],
      "metadata": {
        "id": "9M_iERbc7-8W"
      },
      "execution_count": null,
      "outputs": []
    }
  ]
}