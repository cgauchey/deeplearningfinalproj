{
  "nbformat": 4,
  "nbformat_minor": 0,
  "metadata": {
    "colab": {
      "provenance": []
    },
    "kernelspec": {
      "name": "python3",
      "display_name": "Python 3"
    },
    "language_info": {
      "name": "python"
    }
  },
  "cells": [
    {
      "cell_type": "code",
      "execution_count": 1,
      "metadata": {
        "id": "3OlQ0ojOFGEY"
      },
      "outputs": [],
      "source": [
        "from pathlib import Path\n",
        "import cv2\n",
        "import os"
      ]
    },
    {
      "cell_type": "code",
      "source": [
        "base_dir = Path.home()/\"Desktop\"/\"DLFinalProj\"\n",
        "\n",
        "# open video file\n",
        "video_path = base_dir/\"finalProjVideo.mp4\"\n",
        "video_capture = cv2.VideoCapture(str(video_path))\n",
        "\n",
        "output_folder = base_dir/\"extracted_local\"\n",
        "output_folder.mkdir(parents=True, exist_ok=True)\n",
        "frame_count = 0\n",
        "success, image = video_capture.read()  # read first frame\n",
        "while success:\n",
        "    timestamp = video_capture.get(cv2.CAP_PROP_POS_MSEC)\n",
        "    frame_filename = os.path.join(output_folder, f\"frame_{frame_count}_{int(timestamp)}.png\")\n",
        "    cv2.imwrite(frame_filename, image)\n",
        "    success, image = video_capture.read()\n",
        "    frame_count += 1\n",
        "\n",
        "video_capture.release()\n",
        "\n",
        "\n",
        "# crop image\n",
        "def preprocess_image(image):\n",
        "    height, width = image.shape[:2]\n",
        "    new_size = min(height, width)\n",
        "\n",
        "    top = (height - new_size) // 2\n",
        "    left = (width - new_size) // 2\n",
        "    right = left + new_size\n",
        "    bottom = top + new_size\n",
        "\n",
        "    image_cropped = image[top:bottom, left:right]\n",
        "\n",
        "    resized_image = cv2.resize(image_cropped, (512, 512))\n",
        "\n",
        "    gray_image = cv2.cvtColor(resized_image, cv2.COLOR_BGR2GRAY)\n",
        "\n",
        "    return gray_image\n",
        "\n",
        "\n",
        "extracted_folder = str(output_folder)\n",
        "processed_folder = base_dir/\"preprocessed_local\"\n",
        "for filename in os.listdir(extracted_folder):\n",
        "    if filename.endswith('.png'):\n",
        "        image_path = os.path.join(extracted_folder, filename)\n",
        "        image = cv2.imread(image_path)\n",
        "        processed_image = preprocess_image(image)\n",
        "        processed_path = os.path.join(processed_folder, filename)\n",
        "        cv2.imwrite(processed_path, processed_image)"
      ],
      "metadata": {
        "id": "IxRtJx-ZFLXj"
      },
      "execution_count": null,
      "outputs": []
    }
  ]
}